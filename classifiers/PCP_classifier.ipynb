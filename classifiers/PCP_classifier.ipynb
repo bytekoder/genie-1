{
  "nbformat": 4,
  "nbformat_minor": 0,
  "metadata": {
    "colab": {
      "name": "PCP_classifier.ipynb",
      "provenance": [],
      "collapsed_sections": [],
      "toc_visible": true,
      "include_colab_link": true
    },
    "kernelspec": {
      "name": "python3",
      "display_name": "Python 3"
    }
  },
  "cells": [
    {
      "cell_type": "markdown",
      "metadata": {
        "id": "view-in-github",
        "colab_type": "text"
      },
      "source": [
        "<a href=\"https://colab.research.google.com/github/ExtensionIntention/genie/blob/master/PCP_classifier.ipynb\" target=\"_parent\"><img src=\"https://colab.research.google.com/assets/colab-badge.svg\" alt=\"Open In Colab\"/></a>"
      ]
    },
    {
      "cell_type": "markdown",
      "metadata": {
        "id": "kgKj4aJuGIBY",
        "colab_type": "text"
      },
      "source": [
        "# Publication Count Prediction Classifier"
      ]
    },
    {
      "cell_type": "markdown",
      "metadata": {
        "id": "AGnmvn89GU_j",
        "colab_type": "text"
      },
      "source": [
        "### Authenticate"
      ]
    },
    {
      "cell_type": "code",
      "metadata": {
        "id": "lAYGGqZGGr3y",
        "colab_type": "code",
        "colab": {}
      },
      "source": [
        "from google.colab import auth\n",
        "auth.authenticate_user()"
      ],
      "execution_count": 0,
      "outputs": []
    },
    {
      "cell_type": "markdown",
      "metadata": {
        "id": "4F8MssYsGZ56",
        "colab_type": "text"
      },
      "source": [
        "## Imports"
      ]
    },
    {
      "cell_type": "code",
      "metadata": {
        "id": "egTBGppCGhus",
        "colab_type": "code",
        "colab": {}
      },
      "source": [
        "import requests\n",
        "import json"
      ],
      "execution_count": 0,
      "outputs": []
    },
    {
      "cell_type": "code",
      "metadata": {
        "id": "YsqL50nlGppG",
        "colab_type": "code",
        "colab": {}
      },
      "source": [
        "# Imports\n",
        "import os\n",
        "import math\n",
        "import glob\n",
        "from time import time\n",
        "from datetime import datetime\n",
        "import pickle\n",
        "\n",
        "# Math\n",
        "import numpy as np\n",
        "import pandas as pd\n",
        "from numpy import interp\n",
        "from pandas.api.types import is_string_dtype\n",
        "from pandas.api.types import is_numeric_dtype\n",
        "\n",
        "import seaborn as sns\n",
        "\n",
        "import warnings\n",
        "# we do not need future warnings\n",
        "warnings.simplefilter(action='ignore', category=FutureWarning)\n",
        "from sklearn.exceptions import DataConversionWarning\n",
        "warnings.filterwarnings(action='ignore', category=DataConversionWarning)\n",
        "\n",
        "import xgboost\n",
        "from xgboost import XGBClassifier\n",
        "\n",
        "import sklearn\n",
        "from sklearn.preprocessing import normalize, MinMaxScaler, StandardScaler\n",
        "from sklearn.ensemble import AdaBoostClassifier\n",
        "from sklearn.ensemble import ExtraTreesClassifier\n",
        "from sklearn.ensemble import RandomForestClassifier\n",
        "from sklearn.ensemble import GradientBoostingClassifier\n",
        "from sklearn.multiclass import OutputCodeClassifier\n",
        "from sklearn.naive_bayes import GaussianNB\n",
        "from sklearn.svm import LinearSVC\n",
        "from sklearn.svm import SVC\n",
        "from sklearn.linear_model import LogisticRegression\n",
        "from sklearn.decomposition import PCA\n",
        "from sklearn.metrics import classification_report, confusion_matrix, accuracy_score, precision_recall_fscore_support, roc_curve, auc, roc_auc_score, roc_curve, f1_score\n",
        "\n",
        "# Model selection\n",
        "from sklearn.model_selection import cross_val_score\n",
        "from sklearn.model_selection import GridSearchCV\n",
        "from sklearn.model_selection import KFold\n",
        "from sklearn.model_selection import train_test_split\n",
        "\n",
        "from sklearn.utils import class_weight\n",
        "from sklearn.utils.class_weight import compute_sample_weight \n",
        "from sklearn.utils.class_weight import compute_class_weight"
      ],
      "execution_count": 0,
      "outputs": []
    },
    {
      "cell_type": "code",
      "metadata": {
        "id": "hNgL8FXiGqVq",
        "colab_type": "code",
        "colab": {}
      },
      "source": [
        "import matplotlib.pyplot as plt\n",
        "%matplotlib inline\n",
        "# special matplotlib command for global plot configuration\n",
        "from matplotlib import rcParams\n",
        "import matplotlib.cm as cm\n",
        "import matplotlib as mpl\n",
        "import matplotlib.style\n",
        "\n",
        "from matplotlib.colors import ListedColormap\n",
        "\n",
        "dark2_colors = ['#1b9e77','#d95f02','#7570b3','#e7298a','#66a61e','#e6ab02','#a6761d','#666666']\n",
        "dark2_cmap = ListedColormap(dark2_colors)\n",
        "\n",
        "def set_mpl_params():\n",
        "    rcParams['figure.figsize'] = (10, 6)\n",
        "    rcParams['figure.dpi'] = 100\n",
        "    rcParams['axes.prop_cycle'].by_key()['color'][1]\n",
        "    rcParams['lines.linewidth'] = 2\n",
        "    rcParams['axes.facecolor'] = 'white'\n",
        "    rcParams['font.size'] = 12\n",
        "    rcParams['patch.edgecolor'] = 'white'\n",
        "    rcParams['patch.facecolor'] = dark2_colors[0]\n",
        "    rcParams['font.family'] = 'StixGeneral'\n",
        "\n",
        "set_mpl_params()\n",
        "mpl.style.use('seaborn-dark-palette')\n",
        "\n",
        "import seaborn as sns #If you don't have seaborn, use - conda install seaborn\n",
        "current_palette = sns.color_palette()"
      ],
      "execution_count": 0,
      "outputs": []
    },
    {
      "cell_type": "markdown",
      "metadata": {
        "id": "-PY-EKFHGiB0",
        "colab_type": "text"
      },
      "source": [
        "## Loading and Forming\n",
        "We have pre-processed data which relates gene-disease relationships to articles which pertain to them (the CTD gene-diesease relationship table). The first step is to pull this with BigQuery and combine it with the associated PubMed article metadata. To this end, we also pull all required PubMed metadata using BigQuery to construct a local article dictionary for feature processing convenience."
      ]
    },
    {
      "cell_type": "code",
      "metadata": {
        "id": "YLZQssp6GtNS",
        "colab_type": "code",
        "colab": {}
      },
      "source": [
        "# Append publication count statistics\n",
        "def addPubCount(df):\n",
        "    df['PubCount'] = ''\n",
        "    df['CountMag'] = ''\n",
        "\n",
        "    startTime = time()\n",
        "    # iterate throw rows and count\n",
        "    # also throw in order of magnitude\n",
        "    for i, row in df.iterrows():\n",
        "        cur_ids = row.PubMedIDs.split('|')\n",
        "        df.at[i, 'PubCount'] = len(cur_ids)\n",
        "        if len(cur_ids) <= 10:\n",
        "            cmag = 0\n",
        "        elif len(cur_ids) <= 100:\n",
        "            cmag = 1\n",
        "        else:\n",
        "            cmag = 2\n",
        "        df.at[i, 'CountMag'] = cmag\n",
        "\n",
        "    print('Add pub count time: %fs' % (time()-startTime))\n",
        "\n",
        "    return df"
      ],
      "execution_count": 0,
      "outputs": []
    },
    {
      "cell_type": "code",
      "metadata": {
        "id": "xyJZGrRCGyx3",
        "colab_type": "code",
        "outputId": "5bf39b5c-6980-479c-8118-01627b4691b4",
        "colab": {
          "base_uri": "https://localhost:8080/",
          "height": 289
        }
      },
      "source": [
        "# https://cloud.google.com/resource-manager/docs/creating-managing-projects\n",
        "project_id = 'harvard-599-trendsetters'\n",
        "\n",
        "startTime = time()\n",
        "\n",
        "# call BigQuery\n",
        "df = pd.io.gbq.read_gbq(f'''\n",
        "  SELECT *\n",
        "  FROM `harvard-599-trendsetters.ctd.gene_disease_relationships` \n",
        "  WHERE LENGTH(PubMedIDs) > 10\n",
        "  LIMIT 100000\n",
        "''', project_id=project_id)\n",
        "\n",
        "print('Total time: %fs' % (time()-startTime))\n",
        "print(' Results: %d' % len(df))\n",
        "dis_mesh = np.unique(df['DiseaseID'])\n",
        "gene_ids = np.unique(df['GeneID'])\n",
        "df['InferenceScore'] = pd.to_numeric(df['InferenceScore'])\n",
        "print(' Unique diseases: %d' % len(dis_mesh))\n",
        "print(' Unique genes: %d' % len(gene_ids))\n",
        "addPubCount(df)\n",
        "df.head()"
      ],
      "execution_count": 0,
      "outputs": [
        {
          "output_type": "stream",
          "text": [
            "Total time: 13.863927s\n",
            " Results: 100000\n",
            " Unique diseases: 1490\n",
            " Unique genes: 5156\n",
            "Add pub count time: 12.412300s\n"
          ],
          "name": "stdout"
        },
        {
          "output_type": "execute_result",
          "data": {
            "text/html": [
              "<div>\n",
              "<style scoped>\n",
              "    .dataframe tbody tr th:only-of-type {\n",
              "        vertical-align: middle;\n",
              "    }\n",
              "\n",
              "    .dataframe tbody tr th {\n",
              "        vertical-align: top;\n",
              "    }\n",
              "\n",
              "    .dataframe thead th {\n",
              "        text-align: right;\n",
              "    }\n",
              "</style>\n",
              "<table border=\"1\" class=\"dataframe\">\n",
              "  <thead>\n",
              "    <tr style=\"text-align: right;\">\n",
              "      <th></th>\n",
              "      <th>GeneSymbol</th>\n",
              "      <th>GeneID</th>\n",
              "      <th>DiseaseName</th>\n",
              "      <th>DiseaseID</th>\n",
              "      <th>DirectEvidence</th>\n",
              "      <th>InferenceChemicalName</th>\n",
              "      <th>InferenceScore</th>\n",
              "      <th>OmimIDs</th>\n",
              "      <th>PubMedIDs</th>\n",
              "      <th>PubCount</th>\n",
              "      <th>CountMag</th>\n",
              "    </tr>\n",
              "  </thead>\n",
              "  <tbody>\n",
              "    <tr>\n",
              "      <th>0</th>\n",
              "      <td>A1BG</td>\n",
              "      <td>1</td>\n",
              "      <td>Blood Coagulation Disorders</td>\n",
              "      <td>MESH:D001778</td>\n",
              "      <td>None</td>\n",
              "      <td>Tretinoin</td>\n",
              "      <td>36.89</td>\n",
              "      <td>None</td>\n",
              "      <td>15087033|16197459|16206674</td>\n",
              "      <td>3</td>\n",
              "      <td>0</td>\n",
              "    </tr>\n",
              "    <tr>\n",
              "      <th>1</th>\n",
              "      <td>A1BG</td>\n",
              "      <td>1</td>\n",
              "      <td>Leukemia, Myeloid, Acute</td>\n",
              "      <td>MESH:D015470</td>\n",
              "      <td>None</td>\n",
              "      <td>Tretinoin</td>\n",
              "      <td>4.21</td>\n",
              "      <td>None</td>\n",
              "      <td>16294345|17596541|19850784|22541086</td>\n",
              "      <td>4</td>\n",
              "      <td>0</td>\n",
              "    </tr>\n",
              "    <tr>\n",
              "      <th>2</th>\n",
              "      <td>A1BG-AS1</td>\n",
              "      <td>503538</td>\n",
              "      <td>Hyperinsulinism</td>\n",
              "      <td>MESH:D006946</td>\n",
              "      <td>None</td>\n",
              "      <td>Valproic Acid</td>\n",
              "      <td>3.13</td>\n",
              "      <td>None</td>\n",
              "      <td>19184102|29229235</td>\n",
              "      <td>2</td>\n",
              "      <td>0</td>\n",
              "    </tr>\n",
              "    <tr>\n",
              "      <th>3</th>\n",
              "      <td>A1CF</td>\n",
              "      <td>29974</td>\n",
              "      <td>Hyperuricemia</td>\n",
              "      <td>MESH:D033461</td>\n",
              "      <td>None</td>\n",
              "      <td>Uric Acid</td>\n",
              "      <td>17.77</td>\n",
              "      <td>None</td>\n",
              "      <td>19605544|20123605|20506124|22003309</td>\n",
              "      <td>4</td>\n",
              "      <td>0</td>\n",
              "    </tr>\n",
              "    <tr>\n",
              "      <th>4</th>\n",
              "      <td>A2M</td>\n",
              "      <td>2</td>\n",
              "      <td>Autism Spectrum Disorder</td>\n",
              "      <td>MESH:D000067877</td>\n",
              "      <td>None</td>\n",
              "      <td>Valproic Acid</td>\n",
              "      <td>35.55</td>\n",
              "      <td>None</td>\n",
              "      <td>20734317|21195144|23613074|29309796|29510222|3...</td>\n",
              "      <td>6</td>\n",
              "      <td>0</td>\n",
              "    </tr>\n",
              "  </tbody>\n",
              "</table>\n",
              "</div>"
            ],
            "text/plain": [
              "  GeneSymbol  GeneID  ... PubCount CountMag\n",
              "0       A1BG       1  ...        3        0\n",
              "1       A1BG       1  ...        4        0\n",
              "2   A1BG-AS1  503538  ...        2        0\n",
              "3       A1CF   29974  ...        4        0\n",
              "4        A2M       2  ...        6        0\n",
              "\n",
              "[5 rows x 11 columns]"
            ]
          },
          "metadata": {
            "tags": []
          },
          "execution_count": 249
        }
      ]
    },
    {
      "cell_type": "markdown",
      "metadata": {
        "id": "WILNIuD2Gm_J",
        "colab_type": "text"
      },
      "source": [
        "### Sanity Stats"
      ]
    },
    {
      "cell_type": "code",
      "metadata": {
        "id": "XlehNsK6T4N1",
        "colab_type": "code",
        "colab": {}
      },
      "source": [
        "dfc = df.copy()\n",
        "dfc['GeneTotal'] = dfc.groupby(['GeneSymbol'])['PubCount'].transform('sum')\n",
        "dfc = dfc.drop_duplicates(subset=['GeneSymbol'])"
      ],
      "execution_count": 0,
      "outputs": []
    },
    {
      "cell_type": "code",
      "metadata": {
        "id": "0a2io497UK7Q",
        "colab_type": "code",
        "outputId": "1d6d8b77-35a6-423c-f0fe-472337ea29db",
        "colab": {
          "base_uri": "https://localhost:8080/",
          "height": 559
        }
      },
      "source": [
        "plt.hist(dfc['GeneTotal'].values, 100)\n",
        "plt.title('Frequency vs. Publication count of a particular Gene')\n",
        "plt.xlabel('Publication count')\n",
        "plt.ylabel('Frequency')\n",
        "plt.show()"
      ],
      "execution_count": 0,
      "outputs": [
        {
          "output_type": "display_data",
          "data": {
            "image/png": "[encoded data removed]",
            "text/plain": [
              "<Figure size 1000x600 with 1 Axes>"
            ]
          },
          "metadata": {
            "tags": []
          }
        }
      ]
    },
    {
      "cell_type": "code",
      "metadata": {
        "id": "pFTGWP71Gzxr",
        "colab_type": "code",
        "outputId": "58b8bb22-cc11-4354-bbac-1c4facf3d2fe",
        "colab": {
          "base_uri": "https://localhost:8080/",
          "height": 559
        }
      },
      "source": [
        "plt.hist(df['PubCount'].values, 100)\n",
        "plt.title('Frequency vs. Publication count of a Gene-Disease pair')\n",
        "plt.xlabel('Publication count')\n",
        "plt.ylabel('Frequency')\n",
        "plt.show()"
      ],
      "execution_count": 0,
      "outputs": [
        {
          "output_type": "display_data",
          "data": {
            "image/png": "[encoded data removed]",
            "text/plain": [
              "<Figure size 1000x600 with 1 Axes>"
            ]
          },
          "metadata": {
            "tags": []
          }
        }
      ]
    },
    {
      "cell_type": "markdown",
      "metadata": {
        "id": "-u6gpfLdGuVz",
        "colab_type": "text"
      },
      "source": [
        "# Forming functions"
      ]
    },
    {
      "cell_type": "code",
      "metadata": {
        "id": "-6JKohD9sqCP",
        "colab_type": "code",
        "outputId": "6bf9d212-f67e-464a-ff67-9fe16e137f5d",
        "colab": {
          "base_uri": "https://localhost:8080/",
          "height": 204
        }
      },
      "source": [
        "df.head()"
      ],
      "execution_count": 0,
      "outputs": [
        {
          "output_type": "execute_result",
          "data": {
            "text/html": [
              "<div>\n",
              "<style scoped>\n",
              "    .dataframe tbody tr th:only-of-type {\n",
              "        vertical-align: middle;\n",
              "    }\n",
              "\n",
              "    .dataframe tbody tr th {\n",
              "        vertical-align: top;\n",
              "    }\n",
              "\n",
              "    .dataframe thead th {\n",
              "        text-align: right;\n",
              "    }\n",
              "</style>\n",
              "<table border=\"1\" class=\"dataframe\">\n",
              "  <thead>\n",
              "    <tr style=\"text-align: right;\">\n",
              "      <th></th>\n",
              "      <th>GeneSymbol</th>\n",
              "      <th>GeneID</th>\n",
              "      <th>DiseaseName</th>\n",
              "      <th>DiseaseID</th>\n",
              "      <th>DirectEvidence</th>\n",
              "      <th>InferenceChemicalName</th>\n",
              "      <th>InferenceScore</th>\n",
              "      <th>OmimIDs</th>\n",
              "      <th>PubMedIDs</th>\n",
              "      <th>PubCount</th>\n",
              "      <th>CountMag</th>\n",
              "    </tr>\n",
              "  </thead>\n",
              "  <tbody>\n",
              "    <tr>\n",
              "      <th>0</th>\n",
              "      <td>A1BG</td>\n",
              "      <td>1</td>\n",
              "      <td>Blood Coagulation Disorders</td>\n",
              "      <td>MESH:D001778</td>\n",
              "      <td>None</td>\n",
              "      <td>Tretinoin</td>\n",
              "      <td>36.89</td>\n",
              "      <td>None</td>\n",
              "      <td>15087033|16197459|16206674</td>\n",
              "      <td>3</td>\n",
              "      <td>0</td>\n",
              "    </tr>\n",
              "    <tr>\n",
              "      <th>1</th>\n",
              "      <td>A1BG</td>\n",
              "      <td>1</td>\n",
              "      <td>Leukemia, Myeloid, Acute</td>\n",
              "      <td>MESH:D015470</td>\n",
              "      <td>None</td>\n",
              "      <td>Tretinoin</td>\n",
              "      <td>4.21</td>\n",
              "      <td>None</td>\n",
              "      <td>16294345|17596541|19850784|22541086</td>\n",
              "      <td>4</td>\n",
              "      <td>0</td>\n",
              "    </tr>\n",
              "    <tr>\n",
              "      <th>2</th>\n",
              "      <td>A1BG-AS1</td>\n",
              "      <td>503538</td>\n",
              "      <td>Hyperinsulinism</td>\n",
              "      <td>MESH:D006946</td>\n",
              "      <td>None</td>\n",
              "      <td>Valproic Acid</td>\n",
              "      <td>3.13</td>\n",
              "      <td>None</td>\n",
              "      <td>19184102|29229235</td>\n",
              "      <td>2</td>\n",
              "      <td>0</td>\n",
              "    </tr>\n",
              "    <tr>\n",
              "      <th>3</th>\n",
              "      <td>A1CF</td>\n",
              "      <td>29974</td>\n",
              "      <td>Hyperuricemia</td>\n",
              "      <td>MESH:D033461</td>\n",
              "      <td>None</td>\n",
              "      <td>Uric Acid</td>\n",
              "      <td>17.77</td>\n",
              "      <td>None</td>\n",
              "      <td>19605544|20123605|20506124|22003309</td>\n",
              "      <td>4</td>\n",
              "      <td>0</td>\n",
              "    </tr>\n",
              "    <tr>\n",
              "      <th>4</th>\n",
              "      <td>A2M</td>\n",
              "      <td>2</td>\n",
              "      <td>Autism Spectrum Disorder</td>\n",
              "      <td>MESH:D000067877</td>\n",
              "      <td>None</td>\n",
              "      <td>Valproic Acid</td>\n",
              "      <td>35.55</td>\n",
              "      <td>None</td>\n",
              "      <td>20734317|21195144|23613074|29309796|29510222|3...</td>\n",
              "      <td>6</td>\n",
              "      <td>0</td>\n",
              "    </tr>\n",
              "  </tbody>\n",
              "</table>\n",
              "</div>"
            ],
            "text/plain": [
              "  GeneSymbol  GeneID  ... PubCount CountMag\n",
              "0       A1BG       1  ...        3        0\n",
              "1       A1BG       1  ...        4        0\n",
              "2   A1BG-AS1  503538  ...        2        0\n",
              "3       A1CF   29974  ...        4        0\n",
              "4        A2M       2  ...        6        0\n",
              "\n",
              "[5 rows x 11 columns]"
            ]
          },
          "metadata": {
            "tags": []
          },
          "execution_count": 302
        }
      ]
    },
    {
      "cell_type": "code",
      "metadata": {
        "colab_type": "code",
        "id": "HB2QKGPIbTnK",
        "colab": {}
      },
      "source": [
        "# steps through dataframe and collects a set of all PubMedIDs\n",
        "def getPubMedList(df):\n",
        "    idSet = set()\n",
        "    startTime = time()\n",
        "    for i, row in df.iterrows():\n",
        "        cur_ids = row.PubMedIDs.split('|')\n",
        "        cur_ints = [int(x) for x in cur_ids]\n",
        "        idSet.update(cur_ints)\n",
        "\n",
        "    print(' Total unique PubMed IDs: %d' % len(idSet))\n",
        "    print('Count ID time: %fs' % (time()-startTime))\n",
        "\n",
        "    return idSet"
      ],
      "execution_count": 0,
      "outputs": []
    },
    {
      "cell_type": "code",
      "metadata": {
        "id": "YnKBFRTvSmpD",
        "colab_type": "code",
        "colab": {}
      },
      "source": [
        "# pulls all PubMed article metadata in the given set\n",
        "def getPubMedMetaDF(idSet):\n",
        "    project_id = 'harvard-599-trendsetters'\n",
        "    tStart = time()\n",
        "    print('Forming %d PMIDs' % len(idSet))\n",
        "\n",
        "    idx = 0\n",
        "    load_str = str(idSet)[1:-2]\n",
        "    startTime = time()\n",
        "    df_out = pd.io.gbq.read_gbq(f'''\n",
        "    SELECT *\n",
        "    FROM `harvard-599-trendsetters.pubmed.baseline_02032020`\n",
        "    WHERE pmid in (%s)\n",
        "    LIMIT %d\n",
        "    ''' % (load_str, len(idSet)), project_id=project_id)\n",
        "\n",
        "    print('Total time: %fs' % (time()-startTime))\n",
        "    print(df_out.head())\n",
        "    print(df_out.shape)\n",
        "    \n",
        "    return df_out"
      ],
      "execution_count": 0,
      "outputs": []
    },
    {
      "cell_type": "code",
      "metadata": {
        "id": "GsPnNpmhztH8",
        "colab_type": "code",
        "colab": {}
      },
      "source": [
        "# hard coded values of PubMed metadata tags\n",
        "cnames = ['chemicals', 'abstract', 'mesh_list', 'article_title',\n",
        "       'iso_abbreviation', 'authors', 'pub_model', 'language',\n",
        "       'date_completed', 'title', 'pmid']\n",
        "\n",
        "# class container for article metadata\n",
        "class PubMedArticle:\n",
        "\n",
        "    def __init__(self, meta_s):\n",
        "        # loop through tags and save\n",
        "        for name in cnames:\n",
        "            if not name == 'date_completed':\n",
        "                setattr(self, name, meta_s[name])\n",
        "            else:\n",
        "                # for dates save as datetime\n",
        "                try:\n",
        "                    setattr(self, name, datetime.strptime(meta_s[name], '%Y-%m-%d'))\n",
        "                except:\n",
        "                    setattr(self, name, None) # save None when no valid date\n",
        "\n",
        "    # diagnostic print\n",
        "    def dump(self):\n",
        "        for name in cnames:\n",
        "            print('%s: %s' % (name, str(getattr(self, name))))\n",
        "\n",
        "# create dictionary with PMID as the key and PubMedArticle class as value\n",
        "def formPubMedDict(df_meta, verbose=False):\n",
        "    meta_dict = dict()\n",
        "    tStart = time()\n",
        "    for idx, row in df_meta.iterrows():\n",
        "        if verbose and idx % 1000 == 0:\n",
        "            print(idx)\n",
        "        # feed row series to constructor\n",
        "        pma = PubMedArticle(row)\n",
        "        meta_dict[pma.pmid] = pma\n",
        "    print('Elapsed: %fs' % (time()-tStart))\n",
        "    return meta_dict   "
      ],
      "execution_count": 0,
      "outputs": []
    },
    {
      "cell_type": "code",
      "metadata": {
        "id": "DpLe1-Mds3rA",
        "colab_type": "code",
        "colab": {}
      },
      "source": [
        ""
      ],
      "execution_count": 0,
      "outputs": []
    },
    {
      "cell_type": "code",
      "metadata": {
        "id": "hb_tJGtYbb7o",
        "colab_type": "code",
        "outputId": "9253145f-93e7-40d5-a193-5a4e35934eb1",
        "colab": {
          "base_uri": "https://localhost:8080/",
          "height": 51
        }
      },
      "source": [
        "# get all unique PMIDs in df\n",
        "pIds = getPubMedList(df)"
      ],
      "execution_count": 0,
      "outputs": [
        {
          "output_type": "stream",
          "text": [
            " Total unique PubMed IDs: 43631\n",
            "Count ID time: 10.805917s\n"
          ],
          "name": "stdout"
        }
      ]
    },
    {
      "cell_type": "code",
      "metadata": {
        "id": "KumRQdUlTVhc",
        "colab_type": "code",
        "outputId": "757f0c98-8a76-448b-fd99-7fa363941799",
        "colab": {
          "base_uri": "https://localhost:8080/",
          "height": 204
        }
      },
      "source": [
        "# pull PubMed article metadata from BigQuery and parse to dataframe\n",
        "df_meta = getPubMedMetaDF(pIds)"
      ],
      "execution_count": 0,
      "outputs": [
        {
          "output_type": "stream",
          "text": [
            "Forming 43631 PMIDs\n",
            "Total time: 38.327847s\n",
            "  chemicals  ...      pmid\n",
            "0        []  ...  30816183\n",
            "1        []  ...  30783172\n",
            "2        []  ...  30809271\n",
            "3        []  ...  30807803\n",
            "4        []  ...  30825513\n",
            "\n",
            "[5 rows x 11 columns]\n",
            "(43603, 11)\n"
          ],
          "name": "stdout"
        }
      ]
    },
    {
      "cell_type": "code",
      "metadata": {
        "id": "2JRsHjjE3GRG",
        "colab_type": "code",
        "outputId": "c071aa10-be69-4e93-ea57-d5a618b8ecb3",
        "colab": {
          "base_uri": "https://localhost:8080/",
          "height": 34
        }
      },
      "source": [
        "# form the randomly assorted metadata into dictionary with PMID as key and metadata container class as value\n",
        "meta_dict = formPubMedDict(df_meta, verbose=True)"
      ],
      "execution_count": 0,
      "outputs": [
        {
          "output_type": "stream",
          "text": [
            "Elapsed: 12.160857s\n"
          ],
          "name": "stdout"
        }
      ]
    },
    {
      "cell_type": "code",
      "metadata": {
        "id": "jfEyFAGX7fL0",
        "colab_type": "code",
        "colab": {}
      },
      "source": [
        "# returns boolean of if the target date is in the test range, returns false on invalid date\n",
        "def date_in_range(target_date, test_range):\n",
        "    if target_date:\n",
        "        return target_date >= test_range[0] and target_date <= test_range[1]\n",
        "    return False"
      ],
      "execution_count": 0,
      "outputs": []
    },
    {
      "cell_type": "code",
      "metadata": {
        "id": "ZyshvYUKBxHl",
        "colab_type": "code",
        "colab": {}
      },
      "source": [
        "# plot test histogram\n",
        "def plot_hist(data, append_str=''):\n",
        "    plt.hist(data, 100)\n",
        "    plt.title('Frequency vs. Count %s ' % append_str)\n",
        "    plt.xlabel('Count')\n",
        "    plt.ylabel('Frequency')\n",
        "    plt.show()"
      ],
      "execution_count": 0,
      "outputs": []
    },
    {
      "cell_type": "code",
      "metadata": {
        "id": "Q_ELxZnx4jM3",
        "colab_type": "code",
        "colab": {}
      },
      "source": [
        "# split dataframe into features and labels based on date intervals\n",
        "# TODO: currently date ranges are hard coded!\n",
        "def feature_label_id_split(df, meta_dict, verbose=False):\n",
        "    df_c = df.copy()\n",
        "    df_c['FeatureIDs'] = ''\n",
        "    df_c['LabelIDs'] = ''\n",
        "    df_c['FeatureIDsCount'] = ''\n",
        "    df_c['LabelIDsCount'] = ''\n",
        "    df_c['Fmag'] = ''\n",
        "    df_c['Lmag'] = ''\n",
        "\n",
        "    labelRange = [datetime(2015, 1, 1), datetime(2020, 1, 1)]\n",
        "    featureRange = [datetime(1, 1, 1,), datetime(2005, 1, 1)]\n",
        "\n",
        "    startTime = time()\n",
        "    for i, row in df_c.iterrows():\n",
        "        if verbose and i % 1000 == 0:\n",
        "            print(i)\n",
        "        cur_ids = row.PubMedIDs.split('|')\n",
        "        labelIds = []\n",
        "        featureIds = []\n",
        "        for id in cur_ids:\n",
        "            cur_id = int(id)\n",
        "\n",
        "            if cur_id in meta_dict:\n",
        "                cur_a = meta_dict[cur_id]\n",
        "                if date_in_range(cur_a.date_completed, labelRange):\n",
        "                    labelIds.append(cur_id)\n",
        "                elif date_in_range(cur_a.date_completed, featureRange):\n",
        "                    featureIds.append(cur_id)\n",
        "\n",
        "        df_c.at[i, 'FeatureIDs'] = featureIds\n",
        "        df_c.at[i, 'LabelIDs'] = labelIds\n",
        "        df_c.at[i, 'FeatureIDsCount'] = len(featureIds)\n",
        "        df_c.at[i, 'LabelIDsCount'] = len(labelIds)\n",
        "        # get log10 magnitude of label publications\n",
        "        df_c.at[i, 'Fmag'] = 0 if len(featureIds) == 0 else int(np.floor(np.log10(len(featureIds))))\n",
        "        df_c.at[i, 'Lmag'] = 0 if len(labelIds) == 0 else int(np.floor(np.log10(len(labelIds))))\n",
        "\n",
        "    if verbose:\n",
        "        plot_hist(df_c['FeatureIDsCount'].values)\n",
        "        plot_hist(df_c['LabelIDsCount'].values)       \n",
        "\n",
        "    print('Feature - label split time: %fs' % (time()-startTime))\n",
        "    return df_c"
      ],
      "execution_count": 0,
      "outputs": []
    },
    {
      "cell_type": "code",
      "metadata": {
        "id": "vIp3OQU6A7hQ",
        "colab_type": "code",
        "outputId": "b55e7df6-3123-4551-ee49-567253b380be",
        "colab": {
          "base_uri": "https://localhost:8080/",
          "height": 1000
        }
      },
      "source": [
        "df_c = feature_label_id_split(df, meta_dict, verbose=True)"
      ],
      "execution_count": 0,
      "outputs": [
        {
          "output_type": "stream",
          "text": [
            "0\n",
            "1000\n",
            "2000\n",
            "3000\n",
            "4000\n",
            "5000\n",
            "6000\n",
            "7000\n",
            "8000\n",
            "9000\n",
            "10000\n",
            "11000\n",
            "12000\n",
            "13000\n",
            "14000\n",
            "15000\n",
            "16000\n",
            "17000\n",
            "18000\n",
            "19000\n",
            "20000\n",
            "21000\n",
            "22000\n",
            "23000\n",
            "24000\n",
            "25000\n",
            "26000\n",
            "27000\n",
            "28000\n",
            "29000\n",
            "30000\n",
            "31000\n",
            "32000\n",
            "33000\n",
            "34000\n",
            "35000\n",
            "36000\n",
            "37000\n",
            "38000\n",
            "39000\n",
            "40000\n",
            "41000\n",
            "42000\n",
            "43000\n",
            "44000\n",
            "45000\n",
            "46000\n",
            "47000\n",
            "48000\n",
            "49000\n",
            "50000\n",
            "51000\n",
            "52000\n",
            "53000\n",
            "54000\n",
            "55000\n",
            "56000\n",
            "57000\n",
            "58000\n",
            "59000\n",
            "60000\n",
            "61000\n",
            "62000\n",
            "63000\n",
            "64000\n",
            "65000\n",
            "66000\n",
            "67000\n",
            "68000\n",
            "69000\n",
            "70000\n",
            "71000\n",
            "72000\n",
            "73000\n",
            "74000\n",
            "75000\n",
            "76000\n",
            "77000\n",
            "78000\n",
            "79000\n",
            "80000\n",
            "81000\n",
            "82000\n",
            "83000\n",
            "84000\n",
            "85000\n",
            "86000\n",
            "87000\n",
            "88000\n",
            "89000\n",
            "90000\n",
            "91000\n",
            "92000\n",
            "93000\n",
            "94000\n",
            "95000\n",
            "96000\n",
            "97000\n",
            "98000\n",
            "99000\n"
          ],
          "name": "stdout"
        },
        {
          "output_type": "display_data",
          "data": {
            "image/png": "[encoded data removed]",
            "text/plain": [
              "<Figure size 1000x600 with 1 Axes>"
            ]
          },
          "metadata": {
            "tags": []
          }
        },
        {
          "output_type": "display_data",
          "data": {
            "image/png": "[encoded data removed]",
            "text/plain": [
              "<Figure size 1000x600 with 1 Axes>"
            ]
          },
          "metadata": {
            "tags": []
          }
        },
        {
          "output_type": "stream",
          "text": [
            "Feature - label split time: 21.179897s\n"
          ],
          "name": "stdout"
        }
      ]
    },
    {
      "cell_type": "code",
      "metadata": {
        "id": "s_cpU9OmAIMc",
        "colab_type": "code",
        "outputId": "cc8c5629-842f-4701-b5f6-fddbc396043c",
        "colab": {
          "base_uri": "https://localhost:8080/",
          "height": 34
        }
      },
      "source": [
        "# only accept rows where we have non-zero values in both the feature and label date range\n",
        "valids = (df_c['FeatureIDsCount'] > 0).values & (df_c['LabelIDsCount'] > 0).values\n",
        "df_v = df_c.loc[valids]\n",
        "df_v.shape"
      ],
      "execution_count": 0,
      "outputs": [
        {
          "output_type": "execute_result",
          "data": {
            "text/plain": [
              "(13737, 17)"
            ]
          },
          "metadata": {
            "tags": []
          },
          "execution_count": 260
        }
      ]
    },
    {
      "cell_type": "code",
      "metadata": {
        "id": "a1b3moPnWxXZ",
        "colab_type": "code",
        "outputId": "f3ad3f50-e609-4d9d-ac7d-66dfffe54717",
        "colab": {
          "base_uri": "https://localhost:8080/",
          "height": 292
        }
      },
      "source": [
        "df_v.head()"
      ],
      "execution_count": 0,
      "outputs": [
        {
          "output_type": "execute_result",
          "data": {
            "text/html": [
              "<div>\n",
              "<style scoped>\n",
              "    .dataframe tbody tr th:only-of-type {\n",
              "        vertical-align: middle;\n",
              "    }\n",
              "\n",
              "    .dataframe tbody tr th {\n",
              "        vertical-align: top;\n",
              "    }\n",
              "\n",
              "    .dataframe thead th {\n",
              "        text-align: right;\n",
              "    }\n",
              "</style>\n",
              "<table border=\"1\" class=\"dataframe\">\n",
              "  <thead>\n",
              "    <tr style=\"text-align: right;\">\n",
              "      <th></th>\n",
              "      <th>GeneSymbol</th>\n",
              "      <th>GeneID</th>\n",
              "      <th>DiseaseName</th>\n",
              "      <th>DiseaseID</th>\n",
              "      <th>DirectEvidence</th>\n",
              "      <th>InferenceChemicalName</th>\n",
              "      <th>InferenceScore</th>\n",
              "      <th>OmimIDs</th>\n",
              "      <th>PubMedIDs</th>\n",
              "      <th>PubCount</th>\n",
              "      <th>CountMag</th>\n",
              "      <th>FeatureIDs</th>\n",
              "      <th>LabelIDs</th>\n",
              "      <th>FeatureIDsCount</th>\n",
              "      <th>LabelIDsCount</th>\n",
              "      <th>Fmag</th>\n",
              "      <th>Lmag</th>\n",
              "    </tr>\n",
              "  </thead>\n",
              "  <tbody>\n",
              "    <tr>\n",
              "      <th>5</th>\n",
              "      <td>A2M</td>\n",
              "      <td>2</td>\n",
              "      <td>Gastritis</td>\n",
              "      <td>MESH:D005756</td>\n",
              "      <td>None</td>\n",
              "      <td>Indomethacin</td>\n",
              "      <td>19.49</td>\n",
              "      <td>None</td>\n",
              "      <td>15046732|16080005|2266080|29523851</td>\n",
              "      <td>4</td>\n",
              "      <td>0</td>\n",
              "      <td>[15046732, 2266080]</td>\n",
              "      <td>[29523851]</td>\n",
              "      <td>2</td>\n",
              "      <td>1</td>\n",
              "      <td>0</td>\n",
              "      <td>0</td>\n",
              "    </tr>\n",
              "    <tr>\n",
              "      <th>9</th>\n",
              "      <td>A3GALT2</td>\n",
              "      <td>127550</td>\n",
              "      <td>Craniofacial Abnormalities</td>\n",
              "      <td>MESH:D019465</td>\n",
              "      <td>None</td>\n",
              "      <td>Tetrachlorodibenzodioxin</td>\n",
              "      <td>9.18</td>\n",
              "      <td>None</td>\n",
              "      <td>10048152|15322242|19279074|20055451|22403156|2...</td>\n",
              "      <td>6</td>\n",
              "      <td>0</td>\n",
              "      <td>[10048152, 15322242]</td>\n",
              "      <td>[26320568]</td>\n",
              "      <td>2</td>\n",
              "      <td>1</td>\n",
              "      <td>0</td>\n",
              "      <td>0</td>\n",
              "    </tr>\n",
              "    <tr>\n",
              "      <th>19</th>\n",
              "      <td>AACS</td>\n",
              "      <td>65985</td>\n",
              "      <td>Weight Gain</td>\n",
              "      <td>MESH:D015430</td>\n",
              "      <td>None</td>\n",
              "      <td>Nicotine</td>\n",
              "      <td>81.17</td>\n",
              "      <td>None</td>\n",
              "      <td>29155039|8956374</td>\n",
              "      <td>2</td>\n",
              "      <td>0</td>\n",
              "      <td>[8956374]</td>\n",
              "      <td>[29155039]</td>\n",
              "      <td>1</td>\n",
              "      <td>1</td>\n",
              "      <td>0</td>\n",
              "      <td>0</td>\n",
              "    </tr>\n",
              "    <tr>\n",
              "      <th>22</th>\n",
              "      <td>AADAC</td>\n",
              "      <td>13</td>\n",
              "      <td>Arthritis, Juvenile</td>\n",
              "      <td>MESH:D001171</td>\n",
              "      <td>None</td>\n",
              "      <td>Methotrexate</td>\n",
              "      <td>2.43</td>\n",
              "      <td>None</td>\n",
              "      <td>12682624|16639486|17631750|19565504|20954192|2...</td>\n",
              "      <td>9</td>\n",
              "      <td>0</td>\n",
              "      <td>[12682624, 2388211]</td>\n",
              "      <td>[27166432]</td>\n",
              "      <td>2</td>\n",
              "      <td>1</td>\n",
              "      <td>0</td>\n",
              "      <td>0</td>\n",
              "    </tr>\n",
              "    <tr>\n",
              "      <th>25</th>\n",
              "      <td>AADAT</td>\n",
              "      <td>51166</td>\n",
              "      <td>Kidney Diseases</td>\n",
              "      <td>MESH:D007674</td>\n",
              "      <td>None</td>\n",
              "      <td>Carbon Tetrachloride</td>\n",
              "      <td>105.15</td>\n",
              "      <td>None</td>\n",
              "      <td>25899501|2905310|29522708</td>\n",
              "      <td>3</td>\n",
              "      <td>0</td>\n",
              "      <td>[2905310]</td>\n",
              "      <td>[25899501, 29522708]</td>\n",
              "      <td>1</td>\n",
              "      <td>2</td>\n",
              "      <td>0</td>\n",
              "      <td>0</td>\n",
              "    </tr>\n",
              "  </tbody>\n",
              "</table>\n",
              "</div>"
            ],
            "text/plain": [
              "   GeneSymbol  GeneID                 DiseaseName  ... LabelIDsCount Fmag Lmag\n",
              "5         A2M       2                   Gastritis  ...             1    0    0\n",
              "9     A3GALT2  127550  Craniofacial Abnormalities  ...             1    0    0\n",
              "19       AACS   65985                 Weight Gain  ...             1    0    0\n",
              "22      AADAC      13         Arthritis, Juvenile  ...             1    0    0\n",
              "25      AADAT   51166             Kidney Diseases  ...             2    0    0\n",
              "\n",
              "[5 rows x 17 columns]"
            ]
          },
          "metadata": {
            "tags": []
          },
          "execution_count": 259
        }
      ]
    },
    {
      "cell_type": "code",
      "metadata": {
        "id": "5uvU_BHhWVuU",
        "colab_type": "code",
        "colab": {}
      },
      "source": [
        "df_features = df_v[['GeneID', 'DiseaseID']].copy()"
      ],
      "execution_count": 0,
      "outputs": []
    },
    {
      "cell_type": "code",
      "metadata": {
        "id": "WfgG_6xNW8VB",
        "colab_type": "code",
        "outputId": "8c12c8d4-84a3-4a99-a065-e467353e310a",
        "colab": {
          "base_uri": "https://localhost:8080/",
          "height": 204
        }
      },
      "source": [
        "df_features.head()"
      ],
      "execution_count": 0,
      "outputs": [
        {
          "output_type": "execute_result",
          "data": {
            "text/html": [
              "<div>\n",
              "<style scoped>\n",
              "    .dataframe tbody tr th:only-of-type {\n",
              "        vertical-align: middle;\n",
              "    }\n",
              "\n",
              "    .dataframe tbody tr th {\n",
              "        vertical-align: top;\n",
              "    }\n",
              "\n",
              "    .dataframe thead th {\n",
              "        text-align: right;\n",
              "    }\n",
              "</style>\n",
              "<table border=\"1\" class=\"dataframe\">\n",
              "  <thead>\n",
              "    <tr style=\"text-align: right;\">\n",
              "      <th></th>\n",
              "      <th>GeneID</th>\n",
              "      <th>DiseaseID</th>\n",
              "    </tr>\n",
              "  </thead>\n",
              "  <tbody>\n",
              "    <tr>\n",
              "      <th>5</th>\n",
              "      <td>2</td>\n",
              "      <td>MESH:D005756</td>\n",
              "    </tr>\n",
              "    <tr>\n",
              "      <th>9</th>\n",
              "      <td>127550</td>\n",
              "      <td>MESH:D019465</td>\n",
              "    </tr>\n",
              "    <tr>\n",
              "      <th>19</th>\n",
              "      <td>65985</td>\n",
              "      <td>MESH:D015430</td>\n",
              "    </tr>\n",
              "    <tr>\n",
              "      <th>22</th>\n",
              "      <td>13</td>\n",
              "      <td>MESH:D001171</td>\n",
              "    </tr>\n",
              "    <tr>\n",
              "      <th>25</th>\n",
              "      <td>51166</td>\n",
              "      <td>MESH:D007674</td>\n",
              "    </tr>\n",
              "  </tbody>\n",
              "</table>\n",
              "</div>"
            ],
            "text/plain": [
              "    GeneID     DiseaseID\n",
              "5        2  MESH:D005756\n",
              "9   127550  MESH:D019465\n",
              "19   65985  MESH:D015430\n",
              "22      13  MESH:D001171\n",
              "25   51166  MESH:D007674"
            ]
          },
          "metadata": {
            "tags": []
          },
          "execution_count": 290
        }
      ]
    },
    {
      "cell_type": "code",
      "metadata": {
        "id": "zAewvTz1gWO5",
        "colab_type": "code",
        "colab": {}
      },
      "source": [
        "df_features['InferenceScore'] = df_v['InferenceScore']"
      ],
      "execution_count": 0,
      "outputs": []
    },
    {
      "cell_type": "code",
      "metadata": {
        "id": "W6qhNJSIhaeG",
        "colab_type": "code",
        "outputId": "08b0a9cf-4f6c-4691-e5ba-97cf0b5b2378",
        "colab": {
          "base_uri": "https://localhost:8080/",
          "height": 34
        }
      },
      "source": [
        "labels = df_v['Lmag'].astype(int)\n",
        "print(np.sum(labels))"
      ],
      "execution_count": 0,
      "outputs": [
        {
          "output_type": "stream",
          "text": [
            "830\n"
          ],
          "name": "stdout"
        }
      ]
    },
    {
      "cell_type": "code",
      "metadata": {
        "id": "nfHUfRRSiHX1",
        "colab_type": "code",
        "colab": {}
      },
      "source": [
        "# encoder\n",
        "def encode_data(df, standardize=True, drop_first=False, pair=False, drops=[]):\n",
        "    '''\n",
        "    df - input dataframe\n",
        "    standardize - mean and divide by standard deviation\n",
        "    drop_first - drop the first variable in one-hot encoding\n",
        "    '''\n",
        "\n",
        "    tStart = time()\n",
        "\n",
        "    df_out = df.copy()\n",
        "    \n",
        "    # drop columns if specified\n",
        "    if len(drops) > 0:\n",
        "        df_out = df_out.drop(columns=drops, axis=1)\n",
        "\n",
        "    categorical_names = []\n",
        "    numeric_names = []\n",
        "\n",
        "    if standardize:\n",
        "        for col in df_out.columns:\n",
        "            # GeneID is a categorical variable for our purposes and is skipped\n",
        "            if col == 'phase':\n",
        "                categorical_names.append('GeneID')\n",
        "                continue\n",
        "            if is_numeric_dtype(df_out[col]):\n",
        "                numeric_names.append(col)\n",
        "                df_out[col] = StandardScaler().fit_transform(df_out[[col]].values)\n",
        "            else:\n",
        "                categorical_names.append(col)\n",
        "    \n",
        "    # append paired covariates (very memory intensive)\n",
        "    if pair:\n",
        "        for name1 in numeric_names:\n",
        "            for name2 in numeric_names:\n",
        "                if name1 == name2:\n",
        "                    continue\n",
        "                df_out['%s_%s' % (name1, name2)] = df_out[name1] * df_out[name2]\n",
        "\n",
        "    # transform categorical covariates to dummies (one-hot)\n",
        "    df_out = pd.get_dummies(df_out, columns=categorical_names, drop_first=drop_first)\n",
        "    \n",
        "    print('Encode  time: %fs' % (time()-tStart))\n",
        "    \n",
        "    return df_out"
      ],
      "execution_count": 0,
      "outputs": []
    },
    {
      "cell_type": "code",
      "metadata": {
        "id": "2jZr59SdiIJz",
        "colab_type": "code",
        "outputId": "39635527-bcc6-407a-ba8b-6d88f43e0f41",
        "colab": {
          "base_uri": "https://localhost:8080/",
          "height": 34
        }
      },
      "source": [
        "df_e = encode_data(df_features)"
      ],
      "execution_count": 0,
      "outputs": [
        {
          "output_type": "stream",
          "text": [
            "Encode  time: 0.512872s\n"
          ],
          "name": "stdout"
        }
      ]
    },
    {
      "cell_type": "code",
      "metadata": {
        "id": "Gh_Viti2iO1D",
        "colab_type": "code",
        "outputId": "0117f073-e355-4f75-b3fc-180602fa68b7",
        "colab": {
          "base_uri": "https://localhost:8080/",
          "height": 253
        }
      },
      "source": [
        "df_e.head()"
      ],
      "execution_count": 0,
      "outputs": [
        {
          "output_type": "execute_result",
          "data": {
            "text/html": [
              "<div>\n",
              "<style scoped>\n",
              "    .dataframe tbody tr th:only-of-type {\n",
              "        vertical-align: middle;\n",
              "    }\n",
              "\n",
              "    .dataframe tbody tr th {\n",
              "        vertical-align: top;\n",
              "    }\n",
              "\n",
              "    .dataframe thead th {\n",
              "        text-align: right;\n",
              "    }\n",
              "</style>\n",
              "<table border=\"1\" class=\"dataframe\">\n",
              "  <thead>\n",
              "    <tr style=\"text-align: right;\">\n",
              "      <th></th>\n",
              "      <th>InferenceScore</th>\n",
              "      <th>GeneID_1</th>\n",
              "      <th>GeneID_100</th>\n",
              "      <th>GeneID_1000</th>\n",
              "      <th>GeneID_10000</th>\n",
              "      <th>GeneID_100001129</th>\n",
              "      <th>GeneID_100001603</th>\n",
              "      <th>GeneID_100002545</th>\n",
              "      <th>GeneID_100002938</th>\n",
              "      <th>GeneID_100003090</th>\n",
              "      <th>GeneID_100003419</th>\n",
              "      <th>GeneID_100004607</th>\n",
              "      <th>GeneID_100004990</th>\n",
              "      <th>GeneID_100005587</th>\n",
              "      <th>GeneID_100005593</th>\n",
              "      <th>GeneID_100005752</th>\n",
              "      <th>GeneID_100006005</th>\n",
              "      <th>GeneID_100006238</th>\n",
              "      <th>GeneID_100007164</th>\n",
              "      <th>GeneID_100007763</th>\n",
              "      <th>GeneID_100020791</th>\n",
              "      <th>GeneID_100037315</th>\n",
              "      <th>GeneID_100041585</th>\n",
              "      <th>GeneID_100042493</th>\n",
              "      <th>GeneID_100043686</th>\n",
              "      <th>GeneID_10005</th>\n",
              "      <th>GeneID_10006</th>\n",
              "      <th>GeneID_1001</th>\n",
              "      <th>GeneID_100101640</th>\n",
              "      <th>GeneID_100101938</th>\n",
              "      <th>GeneID_100126106</th>\n",
              "      <th>GeneID_100127983</th>\n",
              "      <th>GeneID_100128569</th>\n",
              "      <th>GeneID_100129271</th>\n",
              "      <th>GeneID_100129792</th>\n",
              "      <th>GeneID_100130301</th>\n",
              "      <th>GeneID_100130418</th>\n",
              "      <th>GeneID_100131244</th>\n",
              "      <th>GeneID_100131755</th>\n",
              "      <th>GeneID_100132111</th>\n",
              "      <th>...</th>\n",
              "      <th>DiseaseID_MESH:D020246</th>\n",
              "      <th>DiseaseID_MESH:D020258</th>\n",
              "      <th>DiseaseID_MESH:D020261</th>\n",
              "      <th>DiseaseID_MESH:D020262</th>\n",
              "      <th>DiseaseID_MESH:D020426</th>\n",
              "      <th>DiseaseID_MESH:D020521</th>\n",
              "      <th>DiseaseID_MESH:D020734</th>\n",
              "      <th>DiseaseID_MESH:D020751</th>\n",
              "      <th>DiseaseID_MESH:D020964</th>\n",
              "      <th>DiseaseID_MESH:D022124</th>\n",
              "      <th>DiseaseID_MESH:D029424</th>\n",
              "      <th>DiseaseID_MESH:D034381</th>\n",
              "      <th>DiseaseID_MESH:D048629</th>\n",
              "      <th>DiseaseID_MESH:D049188</th>\n",
              "      <th>DiseaseID_MESH:D050171</th>\n",
              "      <th>DiseaseID_MESH:D050197</th>\n",
              "      <th>DiseaseID_MESH:D051437</th>\n",
              "      <th>DiseaseID_MESH:D052016</th>\n",
              "      <th>DiseaseID_MESH:D052556</th>\n",
              "      <th>DiseaseID_MESH:D053099</th>\n",
              "      <th>DiseaseID_MESH:D053627</th>\n",
              "      <th>DiseaseID_MESH:D054198</th>\n",
              "      <th>DiseaseID_MESH:D054556</th>\n",
              "      <th>DiseaseID_MESH:D055370</th>\n",
              "      <th>DiseaseID_MESH:D055371</th>\n",
              "      <th>DiseaseID_MESH:D055752</th>\n",
              "      <th>DiseaseID_MESH:D055985</th>\n",
              "      <th>DiseaseID_MESH:D056486</th>\n",
              "      <th>DiseaseID_MESH:D057049</th>\n",
              "      <th>DiseaseID_MESH:D058065</th>\n",
              "      <th>DiseaseID_MESH:D058186</th>\n",
              "      <th>DiseaseID_MESH:D058625</th>\n",
              "      <th>DiseaseID_MESH:D062025</th>\n",
              "      <th>DiseaseID_MESH:D063647</th>\n",
              "      <th>DiseaseID_MESH:D064420</th>\n",
              "      <th>DiseaseID_MESH:D065626</th>\n",
              "      <th>DiseaseID_MESH:D065630</th>\n",
              "      <th>DiseaseID_MESH:D065666</th>\n",
              "      <th>DiseaseID_MESH:D066126</th>\n",
              "      <th>DiseaseID_OMIM:613290</th>\n",
              "    </tr>\n",
              "  </thead>\n",
              "  <tbody>\n",
              "    <tr>\n",
              "      <th>5</th>\n",
              "      <td>-0.489283</td>\n",
              "      <td>0</td>\n",
              "      <td>0</td>\n",
              "      <td>0</td>\n",
              "      <td>0</td>\n",
              "      <td>0</td>\n",
              "      <td>0</td>\n",
              "      <td>0</td>\n",
              "      <td>0</td>\n",
              "      <td>0</td>\n",
              "      <td>0</td>\n",
              "      <td>0</td>\n",
              "      <td>0</td>\n",
              "      <td>0</td>\n",
              "      <td>0</td>\n",
              "      <td>0</td>\n",
              "      <td>0</td>\n",
              "      <td>0</td>\n",
              "      <td>0</td>\n",
              "      <td>0</td>\n",
              "      <td>0</td>\n",
              "      <td>0</td>\n",
              "      <td>0</td>\n",
              "      <td>0</td>\n",
              "      <td>0</td>\n",
              "      <td>0</td>\n",
              "      <td>0</td>\n",
              "      <td>0</td>\n",
              "      <td>0</td>\n",
              "      <td>0</td>\n",
              "      <td>0</td>\n",
              "      <td>0</td>\n",
              "      <td>0</td>\n",
              "      <td>0</td>\n",
              "      <td>0</td>\n",
              "      <td>0</td>\n",
              "      <td>0</td>\n",
              "      <td>0</td>\n",
              "      <td>0</td>\n",
              "      <td>0</td>\n",
              "      <td>...</td>\n",
              "      <td>0</td>\n",
              "      <td>0</td>\n",
              "      <td>0</td>\n",
              "      <td>0</td>\n",
              "      <td>0</td>\n",
              "      <td>0</td>\n",
              "      <td>0</td>\n",
              "      <td>0</td>\n",
              "      <td>0</td>\n",
              "      <td>0</td>\n",
              "      <td>0</td>\n",
              "      <td>0</td>\n",
              "      <td>0</td>\n",
              "      <td>0</td>\n",
              "      <td>0</td>\n",
              "      <td>0</td>\n",
              "      <td>0</td>\n",
              "      <td>0</td>\n",
              "      <td>0</td>\n",
              "      <td>0</td>\n",
              "      <td>0</td>\n",
              "      <td>0</td>\n",
              "      <td>0</td>\n",
              "      <td>0</td>\n",
              "      <td>0</td>\n",
              "      <td>0</td>\n",
              "      <td>0</td>\n",
              "      <td>0</td>\n",
              "      <td>0</td>\n",
              "      <td>0</td>\n",
              "      <td>0</td>\n",
              "      <td>0</td>\n",
              "      <td>0</td>\n",
              "      <td>0</td>\n",
              "      <td>0</td>\n",
              "      <td>0</td>\n",
              "      <td>0</td>\n",
              "      <td>0</td>\n",
              "      <td>0</td>\n",
              "      <td>0</td>\n",
              "    </tr>\n",
              "    <tr>\n",
              "      <th>9</th>\n",
              "      <td>-0.626443</td>\n",
              "      <td>0</td>\n",
              "      <td>0</td>\n",
              "      <td>0</td>\n",
              "      <td>0</td>\n",
              "      <td>0</td>\n",
              "      <td>0</td>\n",
              "      <td>0</td>\n",
              "      <td>0</td>\n",
              "      <td>0</td>\n",
              "      <td>0</td>\n",
              "      <td>0</td>\n",
              "      <td>0</td>\n",
              "      <td>0</td>\n",
              "      <td>0</td>\n",
              "      <td>0</td>\n",
              "      <td>0</td>\n",
              "      <td>0</td>\n",
              "      <td>0</td>\n",
              "      <td>0</td>\n",
              "      <td>0</td>\n",
              "      <td>0</td>\n",
              "      <td>0</td>\n",
              "      <td>0</td>\n",
              "      <td>0</td>\n",
              "      <td>0</td>\n",
              "      <td>0</td>\n",
              "      <td>0</td>\n",
              "      <td>0</td>\n",
              "      <td>0</td>\n",
              "      <td>0</td>\n",
              "      <td>0</td>\n",
              "      <td>0</td>\n",
              "      <td>0</td>\n",
              "      <td>0</td>\n",
              "      <td>0</td>\n",
              "      <td>0</td>\n",
              "      <td>0</td>\n",
              "      <td>0</td>\n",
              "      <td>0</td>\n",
              "      <td>...</td>\n",
              "      <td>0</td>\n",
              "      <td>0</td>\n",
              "      <td>0</td>\n",
              "      <td>0</td>\n",
              "      <td>0</td>\n",
              "      <td>0</td>\n",
              "      <td>0</td>\n",
              "      <td>0</td>\n",
              "      <td>0</td>\n",
              "      <td>0</td>\n",
              "      <td>0</td>\n",
              "      <td>0</td>\n",
              "      <td>0</td>\n",
              "      <td>0</td>\n",
              "      <td>0</td>\n",
              "      <td>0</td>\n",
              "      <td>0</td>\n",
              "      <td>0</td>\n",
              "      <td>0</td>\n",
              "      <td>0</td>\n",
              "      <td>0</td>\n",
              "      <td>0</td>\n",
              "      <td>0</td>\n",
              "      <td>0</td>\n",
              "      <td>0</td>\n",
              "      <td>0</td>\n",
              "      <td>0</td>\n",
              "      <td>0</td>\n",
              "      <td>0</td>\n",
              "      <td>0</td>\n",
              "      <td>0</td>\n",
              "      <td>0</td>\n",
              "      <td>0</td>\n",
              "      <td>0</td>\n",
              "      <td>0</td>\n",
              "      <td>0</td>\n",
              "      <td>0</td>\n",
              "      <td>0</td>\n",
              "      <td>0</td>\n",
              "      <td>0</td>\n",
              "    </tr>\n",
              "    <tr>\n",
              "      <th>19</th>\n",
              "      <td>0.331282</td>\n",
              "      <td>0</td>\n",
              "      <td>0</td>\n",
              "      <td>0</td>\n",
              "      <td>0</td>\n",
              "      <td>0</td>\n",
              "      <td>0</td>\n",
              "      <td>0</td>\n",
              "      <td>0</td>\n",
              "      <td>0</td>\n",
              "      <td>0</td>\n",
              "      <td>0</td>\n",
              "      <td>0</td>\n",
              "      <td>0</td>\n",
              "      <td>0</td>\n",
              "      <td>0</td>\n",
              "      <td>0</td>\n",
              "      <td>0</td>\n",
              "      <td>0</td>\n",
              "      <td>0</td>\n",
              "      <td>0</td>\n",
              "      <td>0</td>\n",
              "      <td>0</td>\n",
              "      <td>0</td>\n",
              "      <td>0</td>\n",
              "      <td>0</td>\n",
              "      <td>0</td>\n",
              "      <td>0</td>\n",
              "      <td>0</td>\n",
              "      <td>0</td>\n",
              "      <td>0</td>\n",
              "      <td>0</td>\n",
              "      <td>0</td>\n",
              "      <td>0</td>\n",
              "      <td>0</td>\n",
              "      <td>0</td>\n",
              "      <td>0</td>\n",
              "      <td>0</td>\n",
              "      <td>0</td>\n",
              "      <td>0</td>\n",
              "      <td>...</td>\n",
              "      <td>0</td>\n",
              "      <td>0</td>\n",
              "      <td>0</td>\n",
              "      <td>0</td>\n",
              "      <td>0</td>\n",
              "      <td>0</td>\n",
              "      <td>0</td>\n",
              "      <td>0</td>\n",
              "      <td>0</td>\n",
              "      <td>0</td>\n",
              "      <td>0</td>\n",
              "      <td>0</td>\n",
              "      <td>0</td>\n",
              "      <td>0</td>\n",
              "      <td>0</td>\n",
              "      <td>0</td>\n",
              "      <td>0</td>\n",
              "      <td>0</td>\n",
              "      <td>0</td>\n",
              "      <td>0</td>\n",
              "      <td>0</td>\n",
              "      <td>0</td>\n",
              "      <td>0</td>\n",
              "      <td>0</td>\n",
              "      <td>0</td>\n",
              "      <td>0</td>\n",
              "      <td>0</td>\n",
              "      <td>0</td>\n",
              "      <td>0</td>\n",
              "      <td>0</td>\n",
              "      <td>0</td>\n",
              "      <td>0</td>\n",
              "      <td>0</td>\n",
              "      <td>0</td>\n",
              "      <td>0</td>\n",
              "      <td>0</td>\n",
              "      <td>0</td>\n",
              "      <td>0</td>\n",
              "      <td>0</td>\n",
              "      <td>0</td>\n",
              "    </tr>\n",
              "    <tr>\n",
              "      <th>22</th>\n",
              "      <td>-0.716242</td>\n",
              "      <td>0</td>\n",
              "      <td>0</td>\n",
              "      <td>0</td>\n",
              "      <td>0</td>\n",
              "      <td>0</td>\n",
              "      <td>0</td>\n",
              "      <td>0</td>\n",
              "      <td>0</td>\n",
              "      <td>0</td>\n",
              "      <td>0</td>\n",
              "      <td>0</td>\n",
              "      <td>0</td>\n",
              "      <td>0</td>\n",
              "      <td>0</td>\n",
              "      <td>0</td>\n",
              "      <td>0</td>\n",
              "      <td>0</td>\n",
              "      <td>0</td>\n",
              "      <td>0</td>\n",
              "      <td>0</td>\n",
              "      <td>0</td>\n",
              "      <td>0</td>\n",
              "      <td>0</td>\n",
              "      <td>0</td>\n",
              "      <td>0</td>\n",
              "      <td>0</td>\n",
              "      <td>0</td>\n",
              "      <td>0</td>\n",
              "      <td>0</td>\n",
              "      <td>0</td>\n",
              "      <td>0</td>\n",
              "      <td>0</td>\n",
              "      <td>0</td>\n",
              "      <td>0</td>\n",
              "      <td>0</td>\n",
              "      <td>0</td>\n",
              "      <td>0</td>\n",
              "      <td>0</td>\n",
              "      <td>0</td>\n",
              "      <td>...</td>\n",
              "      <td>0</td>\n",
              "      <td>0</td>\n",
              "      <td>0</td>\n",
              "      <td>0</td>\n",
              "      <td>0</td>\n",
              "      <td>0</td>\n",
              "      <td>0</td>\n",
              "      <td>0</td>\n",
              "      <td>0</td>\n",
              "      <td>0</td>\n",
              "      <td>0</td>\n",
              "      <td>0</td>\n",
              "      <td>0</td>\n",
              "      <td>0</td>\n",
              "      <td>0</td>\n",
              "      <td>0</td>\n",
              "      <td>0</td>\n",
              "      <td>0</td>\n",
              "      <td>0</td>\n",
              "      <td>0</td>\n",
              "      <td>0</td>\n",
              "      <td>0</td>\n",
              "      <td>0</td>\n",
              "      <td>0</td>\n",
              "      <td>0</td>\n",
              "      <td>0</td>\n",
              "      <td>0</td>\n",
              "      <td>0</td>\n",
              "      <td>0</td>\n",
              "      <td>0</td>\n",
              "      <td>0</td>\n",
              "      <td>0</td>\n",
              "      <td>0</td>\n",
              "      <td>0</td>\n",
              "      <td>0</td>\n",
              "      <td>0</td>\n",
              "      <td>0</td>\n",
              "      <td>0</td>\n",
              "      <td>0</td>\n",
              "      <td>0</td>\n",
              "    </tr>\n",
              "    <tr>\n",
              "      <th>25</th>\n",
              "      <td>0.650302</td>\n",
              "      <td>0</td>\n",
              "      <td>0</td>\n",
              "      <td>0</td>\n",
              "      <td>0</td>\n",
              "      <td>0</td>\n",
              "      <td>0</td>\n",
              "      <td>0</td>\n",
              "      <td>0</td>\n",
              "      <td>0</td>\n",
              "      <td>0</td>\n",
              "      <td>0</td>\n",
              "      <td>0</td>\n",
              "      <td>0</td>\n",
              "      <td>0</td>\n",
              "      <td>0</td>\n",
              "      <td>0</td>\n",
              "      <td>0</td>\n",
              "      <td>0</td>\n",
              "      <td>0</td>\n",
              "      <td>0</td>\n",
              "      <td>0</td>\n",
              "      <td>0</td>\n",
              "      <td>0</td>\n",
              "      <td>0</td>\n",
              "      <td>0</td>\n",
              "      <td>0</td>\n",
              "      <td>0</td>\n",
              "      <td>0</td>\n",
              "      <td>0</td>\n",
              "      <td>0</td>\n",
              "      <td>0</td>\n",
              "      <td>0</td>\n",
              "      <td>0</td>\n",
              "      <td>0</td>\n",
              "      <td>0</td>\n",
              "      <td>0</td>\n",
              "      <td>0</td>\n",
              "      <td>0</td>\n",
              "      <td>0</td>\n",
              "      <td>...</td>\n",
              "      <td>0</td>\n",
              "      <td>0</td>\n",
              "      <td>0</td>\n",
              "      <td>0</td>\n",
              "      <td>0</td>\n",
              "      <td>0</td>\n",
              "      <td>0</td>\n",
              "      <td>0</td>\n",
              "      <td>0</td>\n",
              "      <td>0</td>\n",
              "      <td>0</td>\n",
              "      <td>0</td>\n",
              "      <td>0</td>\n",
              "      <td>0</td>\n",
              "      <td>0</td>\n",
              "      <td>0</td>\n",
              "      <td>0</td>\n",
              "      <td>0</td>\n",
              "      <td>0</td>\n",
              "      <td>0</td>\n",
              "      <td>0</td>\n",
              "      <td>0</td>\n",
              "      <td>0</td>\n",
              "      <td>0</td>\n",
              "      <td>0</td>\n",
              "      <td>0</td>\n",
              "      <td>0</td>\n",
              "      <td>0</td>\n",
              "      <td>0</td>\n",
              "      <td>0</td>\n",
              "      <td>0</td>\n",
              "      <td>0</td>\n",
              "      <td>0</td>\n",
              "      <td>0</td>\n",
              "      <td>0</td>\n",
              "      <td>0</td>\n",
              "      <td>0</td>\n",
              "      <td>0</td>\n",
              "      <td>0</td>\n",
              "      <td>0</td>\n",
              "    </tr>\n",
              "  </tbody>\n",
              "</table>\n",
              "<p>5 rows × 3912 columns</p>\n",
              "</div>"
            ],
            "text/plain": [
              "    InferenceScore  GeneID_1  ...  DiseaseID_MESH:D066126  DiseaseID_OMIM:613290\n",
              "5        -0.489283         0  ...                       0                      0\n",
              "9        -0.626443         0  ...                       0                      0\n",
              "19        0.331282         0  ...                       0                      0\n",
              "22       -0.716242         0  ...                       0                      0\n",
              "25        0.650302         0  ...                       0                      0\n",
              "\n",
              "[5 rows x 3912 columns]"
            ]
          },
          "metadata": {
            "tags": []
          },
          "execution_count": 294
        }
      ]
    },
    {
      "cell_type": "code",
      "metadata": {
        "id": "oDFSQiuimZhO",
        "colab_type": "code",
        "outputId": "dfb1e1c6-6c1e-486b-cb61-8ecfe42a1065",
        "colab": {
          "base_uri": "https://localhost:8080/",
          "height": 51
        }
      },
      "source": [
        "# avoid NaNs\n",
        "for i, row in df_e.iterrows():    \n",
        "    if np.isnan(df_e.at[i, 'InferenceScore']):        \n",
        "        print(df_e.at[i, 'InferenceScore'])\n",
        "        df_e.at[i, 'InferenceScore'] = 0\n",
        "        print(df_e.at[i, 'InferenceScore'])\n",
        "        "
      ],
      "execution_count": 0,
      "outputs": [
        {
          "output_type": "stream",
          "text": [
            "nan\n",
            "0.0\n"
          ],
          "name": "stdout"
        }
      ]
    },
    {
      "cell_type": "code",
      "metadata": {
        "id": "QSilNUevnc2q",
        "colab_type": "code",
        "outputId": "23d3bfaf-6811-40a5-c572-e1741a2cbd94",
        "colab": {
          "base_uri": "https://localhost:8080/",
          "height": 34
        }
      },
      "source": [
        "np.any(np.isnan(df_e['InferenceScore'].values))"
      ],
      "execution_count": 0,
      "outputs": [
        {
          "output_type": "execute_result",
          "data": {
            "text/plain": [
              "False"
            ]
          },
          "metadata": {
            "tags": []
          },
          "execution_count": 296
        }
      ]
    },
    {
      "cell_type": "code",
      "metadata": {
        "id": "q9T_AqpFXqux",
        "colab_type": "code",
        "colab": {}
      },
      "source": [
        "# test features with random forest\n",
        "# reference: section 9\n",
        "\n",
        "def test_random_forest(processed_features, labels, n_estimators=200, test_size=0.2, max_depth=None, random_state=0, verbose=True):\n",
        "    X_train, X_test, y_train, y_test = train_test_split(processed_features, labels, test_size=test_size, random_state=random_state)\n",
        "\n",
        "    tStart = time()\n",
        "    classifier = RandomForestClassifier(n_estimators=n_estimators, random_state=0, n_jobs=-1, max_depth=max_depth)\n",
        "    classifier.fit(X_train, y_train)\n",
        "    predictions = classifier.predict(X_test)\n",
        "    if verbose:\n",
        "        print('Fit time: %fs' % (time()-tStart))\n",
        "        print('Accuracy of on training: %f' % classifier.score(X_train, y_train))\n",
        "        print('Accuracy of validation: %f' % classifier.score(X_test, y_test))\n",
        "        print(confusion_matrix(y_test,predictions))\n",
        "        print(classification_report(y_test,predictions))\n",
        "        print(accuracy_score(y_test, predictions))\n",
        "    return classifier, X_train, X_test, y_train, y_test\n",
        "\n"
      ],
      "execution_count": 0,
      "outputs": []
    },
    {
      "cell_type": "code",
      "metadata": {
        "id": "qbQmiacMmwaY",
        "colab_type": "code",
        "colab": {}
      },
      "source": [
        ""
      ],
      "execution_count": 0,
      "outputs": []
    },
    {
      "cell_type": "markdown",
      "metadata": {
        "id": "Mj06WpodmxM1",
        "colab_type": "text"
      },
      "source": [
        "# Classifier summary"
      ]
    },
    {
      "cell_type": "code",
      "metadata": {
        "id": "w5jNMAswh-6U",
        "colab_type": "code",
        "outputId": "95b11a6d-a268-424b-9a6c-b2d7611321cb",
        "colab": {
          "base_uri": "https://localhost:8080/",
          "height": 306
        }
      },
      "source": [
        "# classifier summary\n",
        "classifier, X_train, X_test, y_train, y_test = test_random_forest(df_e, labels)"
      ],
      "execution_count": 0,
      "outputs": [
        {
          "output_type": "stream",
          "text": [
            "Fit time: 52.115889s\n",
            "Accuracy of on training: 0.995814\n",
            "Accuracy of validation: 0.950509\n",
            "[[2581    8    0]\n",
            " [ 128   30    0]\n",
            " [   0    0    1]]\n",
            "              precision    recall  f1-score   support\n",
            "\n",
            "           0       0.95      1.00      0.97      2589\n",
            "           1       0.79      0.19      0.31       158\n",
            "           2       1.00      1.00      1.00         1\n",
            "\n",
            "    accuracy                           0.95      2748\n",
            "   macro avg       0.91      0.73      0.76      2748\n",
            "weighted avg       0.94      0.95      0.94      2748\n",
            "\n",
            "0.950509461426492\n"
          ],
          "name": "stdout"
        }
      ]
    },
    {
      "cell_type": "code",
      "metadata": {
        "id": "kygjFY1MpAdC",
        "colab_type": "code",
        "outputId": "eb31bf3a-d9a2-4106-a28b-8159e58f6c03",
        "colab": {
          "base_uri": "https://localhost:8080/",
          "height": 119
        }
      },
      "source": [
        "meta_dict[15046732].authors"
      ],
      "execution_count": 0,
      "outputs": [
        {
          "output_type": "execute_result",
          "data": {
            "text/plain": [
              "['Larauche, Muriel',\n",
              " 'Anton, Pauline M',\n",
              " 'Peiro, Géraldine',\n",
              " 'Eutamène, Hélène',\n",
              " 'Buéno, Lionel',\n",
              " 'Fioramonti, Jean']"
            ]
          },
          "metadata": {
            "tags": []
          },
          "execution_count": 301
        }
      ]
    },
    {
      "cell_type": "code",
      "metadata": {
        "id": "XLG6gUKTr6z5",
        "colab_type": "code",
        "colab": {}
      },
      "source": [
        ""
      ],
      "execution_count": 0,
      "outputs": []
    }
  ]
}